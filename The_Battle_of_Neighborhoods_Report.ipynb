{
    "cells": [
        {
            "cell_type": "markdown",
            "metadata": {
                "collapsed": true
            },
            "source": "<center><font size=\"7\">The Battle of Neighborhoods</font></center>"
        },
        {
            "cell_type": "markdown",
            "metadata": {},
            "source": "## Business Problem section"
        },
        {
            "cell_type": "markdown",
            "metadata": {},
            "source": "#### Background"
        },
        {
            "cell_type": "markdown",
            "metadata": {},
            "source": "According to Bloomberg News, the London Housing Market is in a rut. It is now facing a number of different headwinds, including the prospect of higher taxes and a warning from the Bank of England that U.K. home values could fall as much as 30 percent in the event of a disorderly exit from the European Union. More specifically, four overlooked cracks suggest that the London market may be in worse shape than many realize: hidden price falls, record-low sales, homebuilder exodus and tax hikes addressing overseas buyers of homes in England and Wales."
        },
        {
            "cell_type": "markdown",
            "metadata": {},
            "source": "#### Business Problem"
        },
        {
            "cell_type": "markdown",
            "metadata": {},
            "source": "In this scenario, it is urgent to adopt machine learning tools in order to assist homebuyers clientele in London to make wise and effective decisions. As a result, the business problem we are currently posing is: how could we provide support to homebuyers clientele in to purchase a suitable real estate in London in this uncertain economic and financial scenario?\n\nTo solve this business problem, we are going to cluster London neighborhoods in order to recommend venues and the current average price of real estate where homebuyers can make a real estate investment. We will recommend profitable venues according to amenities and essential facilities surrounding such venues i.e. elementary schools, high schools, hospitals & grocery stores."
        },
        {
            "cell_type": "markdown",
            "metadata": {},
            "source": "## Data section"
        },
        {
            "cell_type": "markdown",
            "metadata": {},
            "source": "Data on London properties and the relative price paid data were extracted from the HM Land Registry (http://landregistry.data.gov.uk/). The following fields comprise the address data included in Price Paid Data: Postcode; PAON Primary Addressable Object Name. Typically the house number or name; SAON Secondary Addressable Object Name. If there is a sub-building, for example, the building is divided into flats, there will be a SAON; Street; Locality; Town/City; District; County.\n\nTo explore and target recommended locations across different venues according to the presence of amenities and essential facilities, we will access data through FourSquare API interface and arrange them as a dataframe for visualization. By merging data on London properties and the relative price paid data from the HM Land Registry and data on amenities and essential facilities surrounding such properties from FourSquare API interface, we will be able to recommend profitable real estate investments."
        },
        {
            "cell_type": "markdown",
            "metadata": {},
            "source": "## Methodology section"
        },
        {
            "cell_type": "markdown",
            "metadata": {},
            "source": "The Methodology section will describe the main components of our analysis and predication system. The Methodology section comprises four stages:\n\n1. Collect Inspection Data\n2. Explore and Understand Data\n3. Data preparation and preprocessing \n4. Modeling"
        },
        {
            "cell_type": "markdown",
            "metadata": {},
            "source": "#### 1. Collect Inspection Data"
        },
        {
            "cell_type": "markdown",
            "metadata": {},
            "source": "After importing the necessary libraries, we download the data from the HM Land Registry website. Before using data, we will have to explore and understand it."
        },
        {
            "cell_type": "markdown",
            "metadata": {},
            "source": "#### 2. Explore and Understand Data"
        },
        {
            "cell_type": "markdown",
            "metadata": {},
            "source": "We read the dataset that we collected from the HM Land Registry website into a pandas' data frame and display. Our dataset consists of over 700000 rows and 16 columns. We will now prepare and preprocess data accordingly."
        },
        {
            "cell_type": "markdown",
            "metadata": {},
            "source": "#### 3. Data preparation and preprocessing"
        },
        {
            "cell_type": "markdown",
            "metadata": {},
            "source": "At this stage, we prepare our dataset for the modeling process, opting for the most suitable machine learning algorithm for our scope. Accordingly, we perform the following steps:"
        },
        {
            "cell_type": "markdown",
            "metadata": {},
            "source": "<ul>\n    <li>Rename the column names.</li>\n    <li>Format the date column.</li>\n    <li>Sort data by date of sale.</li>\n    <li>Select data only for the city of London.</li>\n    <li>Make a list of street names in London.</li>\n    <li>Calculate the street-wise average price of the property.</li>\n    <li>Read the street-wise coordinates into a data frame, eliminating recurring word London from individual names.</li>\n    <li>Join the data to find the coordinates of locations which fit into client's budget.</li>\n    <li>Plot recommended locations on London map along with current market prices.</li>\n</ul>"
        },
        {
            "cell_type": "markdown",
            "metadata": {},
            "source": "We can now proceed to the Modeling phase. We will analyze neighborhoods to recommend real estates where home buyers can make a real estate investment. We will then recommend profitable venues according to amenities and essential facilities surrounding such venues i.e. elementary schools, high schools, hospitals & grocery stores."
        },
        {
            "cell_type": "markdown",
            "metadata": {},
            "source": "#### 4. Modeling"
        },
        {
            "cell_type": "markdown",
            "metadata": {},
            "source": "After exploring the dataset and gaining insights into it, we are ready to use the clustering methodology to analyze real estates. We will use the k-means clustering technique as it is fast and efficient in terms of computational cost, is highly flexible to account for mutations in real estate market in London and is accurate."
        },
        {
            "cell_type": "markdown",
            "metadata": {},
            "source": "After our inspection of venues/facilities/amenities nearby the most profitable real estate investments in London, we could begin by clustering properties by venues/facilities/amenities nearby."
        },
        {
            "cell_type": "markdown",
            "metadata": {},
            "source": "## Results and Discussion section"
        },
        {
            "cell_type": "markdown",
            "metadata": {},
            "source": "First of all, even though the London Housing Market may be in a rut, it is still an \"ever-green\" for business affairs.\n\nWe may discuss our results under two main perspectives.\n\nFirst, we may examine them according to neighborhoods/London areas. It is interesting to note that, although West London (Notting Hill, Kensington, Chelsea, Marylebone) and North-West London (Hampsted) might be considered highly profitable venues to purchase a real estate according to amenities and essential facilities surrounding such venues i.e. elementary schools, high schools, hospitals & grocery stores, South-West London (Wandsworth, Balham) and North-West London (Isliington) are arising as next future elite venues with a wide range of amenities and facilities. Accordingly, one might target under-priced real estates in these areas of London in order to make a business affair.\n\nSecond, we may analyze our results according to the five clusters we have produced. Even though, all clusters could praise an optimal range of facilities and amenities, we have found two main patterns. The first pattern we are referring to, i.e. Clusters 0, 2 and 4, may target home buyers prone to live in 'green' areas with parks, waterfronts. Instead, the second pattern we are referring to, i.e. Clusters 1 and 3, may target individuals who love pubs, theatres and soccer."
        },
        {
            "cell_type": "markdown",
            "metadata": {},
            "source": "## Conclusion"
        },
        {
            "cell_type": "markdown",
            "metadata": {},
            "source": "To sum up, according to Bloomberg News, the London Housing Market is in a rut. It is now facing a number of different headwinds, including the prospect of higher taxes and a warning from the Bank of England that U.K. home values could fall as much as 30 percent in the event of a disorderly exit from the European Union. In this scenario, it is urgent to adopt machine learning tools in order to assist homebuyers clientele in London to make wise and effective decisions. As a result, the business problem we were posing was: how could we provide support to homebuyers clientele in to purchase a suitable real estate in London in this uncertain economic and financial scenario?\n\nTo solve this business problem, we clustered London neighborhoods in order to recommend venues and the current average price of real estate where homebuyers can make a real estate investment. We recommended profitable venues according to amenities and essential facilities surrounding such venues i.e. elementary schools, high schools, hospitals & grocery stores.\n\nFirst, we gathered data on London properties and the relative price paid data were extracted from the HM Land Registry (http://landregistry.data.gov.uk/). Moreover, to explore and target recommended locations across different venues according to the presence of amenities and essential facilities, we accessed data through FourSquare API interface and arranged them as a data frame for visualization. By merging data on London properties and the relative price paid data from the HM Land Registry and data on amenities and essential facilities surrounding such properties from FourSquare API interface, we were able to recommend profitable real estate investments.\n\nSecond, The Methodology section comprised four stages: 1. Collect Inspection Data; 2. Explore and Understand Data; 3. Data preparation and preprocessing; 4. Modeling. In particular, in the modeling section, we used the k-means clustering technique as it is fast and efficient in terms of computational cost, is highly flexible to account for mutations in real estate market in London and is accurate.\n\nFinally, we drew the conclusion that even though the London Housing Market may be in a rut, it is still an \"ever-green\" for business affairs. We discussed our results under two main perspectives. First, we examined them according to neighborhoods/London areas. although West London (Notting Hill, Kensington, Chelsea, Marylebone) and North-West London (Hampsted) might be considered highly profitable venues to purchase a real estate according to amenities and essential facilities surrounding such venues i.e. elementary schools, high schools, hospitals & grocery stores, South-West London (Wandsworth, Balham) and North-West London (Isliington) are arising as next future elite venues with a wide range of amenities and facilities. Accordingly, one might target under-priced real estates in these areas of London in order to make a business affair. Second, we analyzed our results according to the five clusters we produced. While Clusters 0, 2 and 4 may target home buyers prone to live in 'green' areas with parks, waterfronts, Clusters 1 and 3 may target individuals who love pubs, theatres and soccer."
        },
        {
            "cell_type": "code",
            "execution_count": null,
            "metadata": {},
            "outputs": [],
            "source": ""
        },
        {
            "cell_type": "code",
            "execution_count": null,
            "metadata": {},
            "outputs": [],
            "source": ""
        }
    ],
    "metadata": {
        "kernelspec": {
            "display_name": "Python 3.6",
            "language": "python",
            "name": "python3"
        },
        "language_info": {
            "codemirror_mode": {
                "name": "ipython",
                "version": 3
            },
            "file_extension": ".py",
            "mimetype": "text/x-python",
            "name": "python",
            "nbconvert_exporter": "python",
            "pygments_lexer": "ipython3",
            "version": "3.6.9"
        }
    },
    "nbformat": 4,
    "nbformat_minor": 1
}